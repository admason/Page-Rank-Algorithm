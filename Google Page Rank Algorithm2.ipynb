{
 "cells": [
  {
   "attachments": {
    "image.png": {
     "image/png": "[encoded data removed]"
    }
   },
   "cell_type": "markdown",
   "metadata": {},
   "source": [
    "# Page Rank Algorithm\n",
    "## Orders the popularity of web page search results\n",
    "### First we create a Model for a mini internet which is composed of 4 web pages; A, B, C and D.\n",
    "### The folowing graph illustrates our model:\n",
    "![image.png](attachment:image.png)\n",
    "### Each node denotes a webpage, each edge denotes a web link from one page to another.\n",
    "### So page B conatins two links, one link to A and the other link to D.\n",
    "### We ignore any self referencing links.\n",
    "### We consider only direct links, such as A to D, but not A to B to D.\n",
    "\n",
    "#### To determine the most popular page we set a random selection system.\n",
    "#### So if a user starts at page A, randomly selects page B, then page A once more, we can represent this as a random page hop.\n",
    "#### The porbability that a page is accessed at random is guaged and will give a measure of the pages popularity.\n",
    "#### The links are described as a vector, each with a value of 1 for the presence of a link and 0 for absence of a link.\n",
    "#### In order that the probability for a page hit we normalise the vectors.\n",
    "\n",
    "## Link vectors:\n",
    "### Link vector A\n",
    "$L_{A}= \\begin{bmatrix}\n",
    "0 & 1 & 1 & 1\\\\\n",
    "\\end{bmatrix}$\n",
    "#### Whereby page A has a link to B, C and D.\n",
    "\n",
    "### Link vector B\n",
    "$L_{B}= \\begin{bmatrix}\n",
    "1 & 0 & 0 & 1\\\\\n",
    "\\end{bmatrix}$\n",
    "#### Whereby page B has a link to A and D.\n",
    "\n",
    "### Link vectors C and D\n",
    "$L_{C}= \\begin{bmatrix}\n",
    "0 & 0 & 0 & 1\\\\\n",
    "\\end{bmatrix}\n",
    "\\\\\n",
    "L_{D}= \\begin{bmatrix}\n",
    "0 & 1 & 1 & 0\\\\\n",
    "\\end{bmatrix}$\n",
    "\n",
    "### Normalisation of the vectors involves divion by the sum of the element.\n",
    "$L_{A}= \\begin{bmatrix}\n",
    "0 & 1 & 1 & 1\\\\\n",
    "\\end{bmatrix}  =  \\begin{bmatrix}\n",
    "0 & \\frac{1}{3} & \\frac{1}{3} & \\frac{1}{3}\\\\\n",
    "\\end{bmatrix}\n",
    "\\\\\n",
    "L_{B}= \\begin{bmatrix}\n",
    "1 & 0 & 0 & 1\\\\\n",
    "\\end{bmatrix}  =\\begin{bmatrix} \\frac{1}{2} & 0 & 0 & \\frac{1}{2}\\\\\n",
    "\\end{bmatrix}\n",
    "\\\\\n",
    "L_{C}= \\begin{bmatrix}\n",
    "0 & 0 & 0 & 1\\\\\n",
    "\\end{bmatrix}  =\\begin{bmatrix}0 & 0 & 0 & 1\\\\\n",
    "\\end{bmatrix}\n",
    "\\\\\n",
    "L_{D}= \\begin{bmatrix}\n",
    "0 & 1 & 1 & 0\\\\\n",
    "\\end{bmatrix}=\\begin{bmatrix}0 & \\frac{1}{2} & \\frac{1}{2} & 0\\\\\n",
    "\\end{bmatrix}$\n",
    "\\\\\n",
    "#### The normalised vectors are then placed as column in Link matrix:\n",
    "#### The link matrix L=  $\\begin{bmatrix}\n",
    "0 & \\frac{1}{2} & 0 & 0\\\\\n",
    "\\frac{1}{3} & 0 & 0 & \\frac{1}{2}\\\\\n",
    "\\frac{1}{3} & 0 & 0 & \\frac{1}{2}\\\\\n",
    "\\frac{1}{3} & \\frac{1}{2} & 1 & 0\\\\\n",
    "\\end{bmatrix}$"
   ]
  },
  {
   "cell_type": "code",
   "execution_count": 27,
   "metadata": {},
   "outputs": [],
   "source": []
  },
  {
   "cell_type": "code",
   "execution_count": null,
   "metadata": {},
   "outputs": [],
   "source": []
  },
  {
   "cell_type": "markdown",
   "metadata": {},
   "source": [
    "## Python application\n",
    "### import numpy and numpy.linalg"
   ]
  },
  {
   "cell_type": "code",
   "execution_count": 4,
   "metadata": {},
   "outputs": [],
   "source": [
    "#importing libraries\n",
    "import numpy as np\n",
    "import numpy.linalg as la"
   ]
  },
  {
   "cell_type": "markdown",
   "metadata": {},
   "source": [
    "### Build the Link Matrix"
   ]
  },
  {
   "cell_type": "code",
   "execution_count": 5,
   "metadata": {},
   "outputs": [],
   "source": [
    "# Link Matrix\n",
    "#Build Link Matrix\n",
    "\n",
    "L = np.array([[0,   1/2, 0,  0   ],\n",
    "              [1/3, 0,   0,  1/2 ],\n",
    "              [1/3, 0,   0,  1/2 ],\n",
    "              [1/3, 1/2, 1,  0 ]])"
   ]
  },
  {
   "cell_type": "markdown",
   "metadata": {},
   "source": [
    "#### As an iteration loop will be administered then an initial vector will be required, where each element denotes it's probability of selection first. Four page will mean:\n",
    "$P(A)=P(B)+P(C)+P(D)=\\frac{1}{4}$\n",
    "#### The initial vector is therefore:\n",
    "$ \\vec{r} = \\begin{bmatrix}\n",
    "\\frac{1}{4} & \\frac{1}{4} & \\frac{1}{4} & \\frac{1}{4}\\\\\n",
    "\\end{bmatrix}$\n"
   ]
  },
  {
   "cell_type": "code",
   "execution_count": 6,
   "metadata": {},
   "outputs": [
    {
     "data": {
      "text/plain": [
       "array([25., 25., 25., 25.])"
      ]
     },
     "execution_count": 6,
     "metadata": {},
     "output_type": "execute_result"
    }
   ],
   "source": [
    "# Initial vector r,\n",
    "# Multiplied by 100 in order to gain percentage probabilty\n",
    "r = 100*np.ones(4)/4   # Set the vector with 4 entries of 1/4 x100 each\n",
    "r                   "
   ]
  },
  {
   "cell_type": "markdown",
   "metadata": {},
   "source": [
    "## Rank method.\n",
    "#### After the first iteration:\n",
    " \n",
    "$\\begin{pmatrix}% \n",
    "0&\\frac{1}{2}&0&0\\\\% \n",
    "\\frac{1}{3}&0&0&\\frac{1}{2}\\\\% \n",
    "\\frac{1}{3}&0&0&\\frac{1}{2}\\\\%\n",
    "\\frac{1}{2}&\\frac{1}{2}&1&0%\n",
    "\\end{pmatrix} \\begin{pmatrix}% \n",
    "\\frac{1}{4}\\\\% \n",
    "\\frac{1}{4}\\\\% \n",
    "\\frac{1}{4}\\\\\n",
    "\\frac{1}{4}% \n",
    "\\end{pmatrix} = \\begin{pmatrix}% \n",
    "\\frac{1}{4}(\\frac{1}{2})=\\frac{1}{8}\\\\% \n",
    "\\frac{1}{4}(\\frac{1}{3}+\\frac{1}{2})=\\frac{5}{24}\\\\%\n",
    "\\frac{1}{4}(\\frac{1}{3}+\\frac{1}{2})=\\frac{5}{24}\\\\%\n",
    "\\frac{1}{4}(\\frac{1}{3}+\\frac{1}{2}+1)=\\frac{11}{24}\\\\%\n",
    "% \n",
    "\\end{pmatrix}\n",
    "$\n",
    "\n",
    "### So, \n",
    "$R_{A} \\approx 0.125\n",
    "\\\\\n",
    "R_{B} \\approx 0.208\n",
    "\\\\\n",
    "R_{C} \\approx 0.208\n",
    "\\\\\n",
    "R_{D} \\approx 0.458$"
   ]
  },
  {
   "cell_type": "code",
   "execution_count": 7,
   "metadata": {},
   "outputs": [
    {
     "data": {
      "text/plain": [
       "array([12.5       , 20.83333333, 20.83333333, 45.83333333])"
      ]
     },
     "execution_count": 7,
     "metadata": {},
     "output_type": "execute_result"
    }
   ],
   "source": [
    "# Performing the first iteration, multiply matrix L with vector r\n",
    "r = L @ r  # applies link matrix to r\n",
    "r #this is the rank vector after first iteration"
   ]
  },
  {
   "cell_type": "markdown",
   "metadata": {},
   "source": [
    "### The process is repeated until a stable result is found.\n",
    "#### Essentially the following summation is employed:\n",
    "$\n",
    "R_{A} = \\sum_{j=1}^{n}  L_{a}jM_{j}\\   \n",
    "\\\\\n",
    "\\\\\n",
    "n\\in \\mathbb{N}\n",
    "$\n",
    "#### Where j is the number of webpages and n is number of iterations\n",
    "\n",
    "#### The rank of A is the sum of the ranks of all the pages which are liked to it, weighted by their specific link probability taken from the matrix L.\n",
    "$\n",
    "M=L \\cdot r\n",
    "$\n",
    "\n",
    "#### By iteration: \n",
    "#### Initial step:             $r^{i}=L\\cdot r$\n",
    "#### Subsequently:       $r^{i+1}=L\\cdot r^{i}$\n",
    "\n",
    "#### Since $L\\vec{x}=\\lambda\\vec{x}$\n",
    "#### So, $\\lambda = r$, which is the eigenvalue of 1\n",
    "#### And $\\vec{r}$ is the eigenvector of matrix L.\n"
   ]
  },
  {
   "cell_type": "code",
   "execution_count": 16,
   "metadata": {},
   "outputs": [
    {
     "data": {
      "text/plain": [
       "array([10.41666667, 27.08333333, 27.08333333, 35.41666667])"
      ]
     },
     "execution_count": 16,
     "metadata": {},
     "output_type": "execute_result"
    }
   ],
   "source": [
    "# To update the value of r, keep repeating \n",
    "r = L @ r \n",
    "r"
   ]
  },
  {
   "cell_type": "markdown",
   "metadata": {},
   "source": [
    "## While loop.\n",
    "### Introduce a while loop to iterate 100 times"
   ]
  },
  {
   "cell_type": "code",
   "execution_count": 10,
   "metadata": {},
   "outputs": [
    {
     "data": {
      "text/plain": [
       "array([11.99986288, 24.00024908, 24.00024908, 39.99963896])"
      ]
     },
     "execution_count": 10,
     "metadata": {},
     "output_type": "execute_result"
    }
   ],
   "source": [
    "# We repeat using a loop\n",
    "r=100*np.ones(4)/4\n",
    "for i in np.arange(100):\n",
    "    r=L@r\n",
    "r"
   ]
  },
  {
   "cell_type": "markdown",
   "metadata": {},
   "source": [
    "#### The final iteration of r denotes the probabilty of hitting each page during the 100 cloop experiment.\n",
    "#### The user spends 12% in page A, 24% in page B and 24% in C, then 40% in D"
   ]
  },
  {
   "cell_type": "code",
   "execution_count": 18,
   "metadata": {},
   "outputs": [
    {
     "data": {
      "text/plain": [
       "40.0"
      ]
     },
     "execution_count": 18,
     "metadata": {},
     "output_type": "execute_result"
    }
   ],
   "source": [
    "# Best Probabilty:\n",
    "round(np.max(r),2)"
   ]
  },
  {
   "cell_type": "markdown",
   "metadata": {},
   "source": [
    "### Running the while loop until a a specific condition is met, such as a tolerance level"
   ]
  },
  {
   "cell_type": "code",
   "execution_count": 19,
   "metadata": {},
   "outputs": [
    {
     "name": "stdout",
     "output_type": "stream",
     "text": [
      "[10.41666667 27.08333333 27.08333333 35.41666667]\n",
      "[13.54166667 21.18055556 21.18055556 44.09722222]\n",
      "[10.59027778 26.5625     26.5625     36.28472222]\n",
      "[13.28125    21.6724537  21.6724537  43.37384259]\n",
      "[10.83622685 26.11400463 26.11400463 36.93576389]\n",
      "[13.05700231 22.07995756 22.07995756 42.78308256]\n",
      "[11.03997878 25.74387539 25.74387539 37.47227045]\n",
      "[12.87193769 22.41612815 22.41612815 42.29580601]\n",
      "[11.20806408 25.4385489  25.4385489  37.91483812]\n",
      "[12.71927445 22.69344042 22.69344042 41.89384471]\n",
      "[11.34672021 25.1866805  25.1866805  38.27991878]\n",
      "[12.59334025 22.92219946 22.92219946 41.56226083]\n",
      "[11.46109973 24.9789105  24.9789105  38.58107927]\n",
      "[12.48945525 23.11090621 23.11090621 41.28873232]\n",
      "[11.55545311 24.80751791 24.80751791 38.82951107]\n",
      "[12.40375896 23.26657324 23.26657324 41.06309457]\n",
      "[11.63328662 24.6661336  24.6661336  39.03444618]\n",
      "[12.3330668  23.39498529 23.39498529 40.87696261]\n",
      "[11.69749265 24.54950357 24.54950357 39.20350021]\n",
      "[12.27475179 23.50091432 23.50091432 40.72341957]\n",
      "[11.75045716 24.45329372 24.45329372 39.34295541]\n",
      "[12.22664686 23.58829676 23.58829676 40.59675963]\n",
      "[11.79414838 24.37392877 24.37392877 39.45799409]\n",
      "[12.18696438 23.66037984 23.66037984 40.49227594]\n",
      "[11.83018992 24.30845943 24.30845943 39.55289122]\n",
      "[12.15422972 23.71984225 23.71984225 40.40608579]\n",
      "[11.85992112 24.2544528  24.2544528  39.63117328]\n",
      "[12.1272264  23.76889368 23.76889368 40.33498624]\n",
      "[11.88444684 24.20990192 24.20990192 39.69574932]\n",
      "[12.10495096 23.80935694 23.80935694 40.27633516]\n",
      "[11.90467847 24.17315123 24.17315123 39.74901906]\n",
      "[12.08657562 23.84273569 23.84273569 40.22795301]\n",
      "[11.92136784 24.14283504 24.14283504 39.79296207]\n",
      "[12.07141752 23.87027032 23.87027032 40.18804184]\n",
      "[11.93513516 24.11782676 24.11782676 39.82921132]\n",
      "[12.05891338 23.89298404 23.89298404 40.15511853]\n",
      "[11.94649202 24.09719706 24.09719706 39.85911386]\n",
      "[12.04859853 23.91172094 23.91172094 40.1279596 ]\n",
      "[11.95586047 24.08017931 24.08017931 39.88378092]\n",
      "[12.04008965 23.92717728 23.92717728 40.10555578]\n",
      "[11.96358864 24.06614111 24.06614111 39.90412914]\n",
      "[12.03307056 23.93992745 23.93992745 40.08707455]\n",
      "[11.96996372 24.05456079 24.05456079 39.92091469]\n",
      "[12.0272804  23.95044525 23.95044525 40.07182909]\n",
      "[11.97522263 24.04500801 24.04500801 39.93476135]\n",
      "[12.02250401 23.95912155 23.95912155 40.05925289]\n",
      "[11.97956077 24.03712778 24.03712778 39.94618366]\n",
      "[12.01856389 23.96627875 23.96627875 40.0488786 ]\n",
      "[11.98313938 24.03062726 24.03062726 39.9556061 ]\n",
      "[12.01531363 23.97218284 23.97218284 40.04032069]\n",
      "[11.98609142 24.02526489 24.02526489 39.9633788 ]\n",
      "[12.01263244 23.97705321 23.97705321 40.03326114]\n",
      "[11.9885266  24.02084138 24.02084138 39.96979063]\n",
      "[12.01042069 23.98107085 23.98107085 40.02743761]\n",
      "[11.99053542 24.01719237 24.01719237 39.97507984]\n",
      "[12.00859618 23.98438506 23.98438506 40.0226337 ]\n",
      "[11.99219253 24.01418224 24.01418224 39.97944299]\n",
      "[12.00709112 23.987119   23.987119   40.01867087]\n",
      "[11.9935595  24.01169914 24.01169914 39.98304221]\n",
      "[12.00584957 23.98937427 23.98937427 40.01540188]\n",
      "[11.99468714 24.0096508  24.0096508  39.98601127]\n",
      "[12.0048254  23.99123468 23.99123468 40.01270524]\n",
      "[11.99561734 24.00796109 24.00796109 39.98846048]\n",
      "[12.00398054 23.99276936 23.99276936 40.01048075]\n",
      "[11.99638468 24.00656722 24.00656722 39.99048088]\n",
      "[12.00328361 23.99403533 23.99403533 40.00864572]\n",
      "[11.99701767 24.0054174  24.0054174  39.99214754]\n",
      "[12.0027087  23.99507966 23.99507966 40.00713199]\n",
      "[11.99753983 24.00446889 24.00446889 39.99352239]\n",
      "[12.00223445 23.99594114 23.99594114 40.00588328]\n",
      "[11.99797057 24.00368646 24.00368646 39.99465652]\n",
      "[12.00184323 23.99665178 23.99665178 40.00485321]\n",
      "[11.99832589 24.00304101 24.00304101 39.99559208]\n",
      "[12.00152051 23.997238   23.997238   40.00400348]\n",
      "[11.998619   24.00250858 24.00250858 39.99636384]\n",
      "[12.00125429 23.99772159 23.99772159 40.00330253]\n",
      "[11.99886079 24.00206936 24.00206936 39.99700048]\n",
      "77 is number of iterations for convergence\n"
     ]
    },
    {
     "data": {
      "text/plain": [
       "array([11.99886079, 24.00206936, 24.00206936, 39.99700048])"
      ]
     },
     "execution_count": 19,
     "metadata": {},
     "output_type": "execute_result"
    }
   ],
   "source": [
    "# We may run the code until a specific condition is met, such as tolerance\n",
    "r =  100*np.ones(4)/4\n",
    "lastR = r  #set to equal initial r\n",
    "r = L@r\n",
    "i = 0      # counting variable\n",
    "while la.norm(lastR - r)> 0.01:\n",
    "    lastR = r\n",
    "    r = L@r\n",
    "    i += 1\n",
    "    print(r)\n",
    "print(str(i)+\" is number of iterations for convergence\")\n",
    "r"
   ]
  },
  {
   "cell_type": "markdown",
   "metadata": {},
   "source": [
    "### We find:\n",
    "$P(A) = 11.99\\approx12\\%\n",
    "\\\\\n",
    "P(B) = 24.00\\approx24\\%\n",
    "\\\\\n",
    "P(C) = 24.00\\approx24\\%\n",
    "\\\\\n",
    "P(D) = 39.997\\approx40\\%\n",
    "$"
   ]
  },
  {
   "cell_type": "code",
   "execution_count": 34,
   "metadata": {},
   "outputs": [
    {
     "data": {
      "text/plain": [
       "array([[0.        , 0.5       , 0.33333333, 0.        , 0.        ,\n",
       "        0.        ],\n",
       "       [0.33333333, 0.        , 0.        , 0.        , 0.5       ,\n",
       "        0.33333333],\n",
       "       [0.33333333, 0.5       , 0.        , 1.        , 0.        ,\n",
       "        0.        ],\n",
       "       [0.33333333, 0.        , 0.33333333, 0.        , 0.5       ,\n",
       "        0.33333333],\n",
       "       [0.        , 0.        , 0.        , 0.        , 0.        ,\n",
       "        0.33333333],\n",
       "       [0.        , 0.        , 0.33333333, 0.        , 0.        ,\n",
       "        0.        ]])"
      ]
     },
     "execution_count": 34,
     "metadata": {},
     "output_type": "execute_result"
    }
   ],
   "source": [
    "#Lets take a new case with 6 pages\n",
    "\n",
    "M = np.array([[0,   1/2, 1/3, 0, 0,    0 ],\n",
    "              [1/3, 0,   0,   0, 1/2, 1/3],\n",
    "              [1/3, 1/2, 0,   1, 0,   0 ],\n",
    "              [1/3, 0,   1/3, 0, 1/2, 1/3 ],\n",
    "              [0,   0,   0,   0, 0,   1/3 ],\n",
    "              [0,   0,   1/3, 0, 0,   0 ]])\n",
    "M"
   ]
  },
  {
   "cell_type": "code",
   "execution_count": 35,
   "metadata": {},
   "outputs": [
    {
     "name": "stdout",
     "output_type": "stream",
     "text": [
      "[19.90740741  9.25925926 39.35185185 19.44444444  1.85185185 10.18518519]\n",
      "[17.74691358 10.95679012 30.70987654 24.07407407  3.39506173 13.11728395]\n",
      "[15.71502058 11.98559671 35.468107   22.22222222  4.37242798 10.23662551]\n",
      "[17.81550069 10.83676269 33.45336077 22.65946502  3.4122085  11.82270233]\n",
      "[16.5695016  11.58550526 34.01634659 22.73662551  3.94090078 11.15112026]\n",
      "[17.13153483 11.21065767 34.05254534 22.54943987  3.71704009 11.3387822 ]\n",
      "[16.95617728 11.34862572 33.86528032 22.69947417  3.77959407 11.35084845]\n",
      "[16.96273963 11.32547228 34.02584612 22.61389905  3.78361615 11.28842677]\n",
      "[17.00468485 11.30886354 33.93088173 22.65081225  3.76280892 11.34194871]\n",
      "[16.96472568 11.33028231 33.9734723  22.64057622  3.78064957 11.31029391]\n",
      "[16.98963192 11.31533132 33.96062594 22.63982208  3.77009797 11.32449077]\n",
      "[16.9778743  11.32308988 33.96069838 22.64329853  3.77483026 11.32020865]\n",
      "[16.98177773 11.32010945 33.9641349  22.64034224  3.77340288 11.32023279]\n",
      "13iterations for convergence to give vector r\n"
     ]
    },
    {
     "data": {
      "text/plain": [
       "array([16.98177773, 11.32010945, 33.9641349 , 22.64034224,  3.77340288,\n",
       "       11.32023279])"
      ]
     },
     "execution_count": 35,
     "metadata": {},
     "output_type": "execute_result"
    }
   ],
   "source": [
    "r=100*np.ones(6)/6\n",
    "lastR = r\n",
    "r =M@r\n",
    "i =0\n",
    "while la.norm(lastR - r)>0.01:\n",
    "    lastR = r\n",
    "    r= M@r\n",
    "    i +=1\n",
    "    print(r)\n",
    "print(str(i) + \"iterations for convergence to give vector r\")\n",
    "r"
   ]
  },
  {
   "cell_type": "code",
   "execution_count": 86,
   "metadata": {},
   "outputs": [
    {
     "name": "stdout",
     "output_type": "stream",
     "text": [
      "maximum % is 34.0 %\n"
     ]
    }
   ],
   "source": [
    "# A=17%, B=11%,C=34%,D=22%,E=4%,F=11%\n",
    "m=round(max(r),1)\n",
    "print(\"maximum % is \"+str(m)+\" %\")"
   ]
  },
  {
   "cell_type": "code",
   "execution_count": 87,
   "metadata": {},
   "outputs": [
    {
     "data": {
      "text/plain": [
       "array([16.98177773, 11.32010945, 33.9641349 , 22.64034224,  3.77340288,\n",
       "       11.32023279])"
      ]
     },
     "execution_count": 87,
     "metadata": {},
     "output_type": "execute_result"
    }
   ],
   "source": [
    "r[0:6]  "
   ]
  },
  {
   "cell_type": "code",
   "execution_count": 92,
   "metadata": {},
   "outputs": [
    {
     "name": "stdout",
     "output_type": "stream",
     "text": [
      "Page number (array([2], dtype=int64),) with 34.0% hit pobability\n"
     ]
    }
   ],
   "source": [
    "toppage=np.where(r==max(r))\n",
    "top =str(toppage)\n",
    "print(\"Page number {} with {}% hit pobability\".format(top,m))\n"
   ]
  },
  {
   "cell_type": "code",
   "execution_count": 78,
   "metadata": {},
   "outputs": [
    {
     "name": "stdout",
     "output_type": "stream",
     "text": [
      "A\n"
     ]
    }
   ],
   "source": [
    "thisdict = {\n",
    "  \"1\": \"A\",\n",
    "  \"2\": \"B\",\n",
    "  \"3\": \"C\"\n",
    "}\n",
    "print(thisdict[\"1\"])\n"
   ]
  },
  {
   "cell_type": "code",
   "execution_count": null,
   "metadata": {},
   "outputs": [],
   "source": []
  },
  {
   "cell_type": "code",
   "execution_count": null,
   "metadata": {},
   "outputs": [],
   "source": []
  },
  {
   "cell_type": "code",
   "execution_count": null,
   "metadata": {},
   "outputs": [],
   "source": []
  }
 ],
 "metadata": {
  "kernelspec": {
   "display_name": "Python 3",
   "language": "python",
   "name": "python3"
  },
  "language_info": {
   "codemirror_mode": {
    "name": "ipython",
    "version": 3
   },
   "file_extension": ".py",
   "mimetype": "text/x-python",
   "name": "python",
   "nbconvert_exporter": "python",
   "pygments_lexer": "ipython3",
   "version": "3.7.1"
  }
 },
 "nbformat": 4,
 "nbformat_minor": 2
}
